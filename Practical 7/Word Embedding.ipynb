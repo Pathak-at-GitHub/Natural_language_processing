{
 "cells": [
  {
   "cell_type": "markdown",
   "id": "c9c2391e",
   "metadata": {},
   "source": [
    "# Word embedding using Bag of words model"
   ]
  },
  {
   "cell_type": "markdown",
   "id": "3f17eed8",
   "metadata": {},
   "source": [
    "Install an NLP library or add-in"
   ]
  },
  {
   "cell_type": "code",
   "execution_count": 1,
   "id": "13dbb963",
   "metadata": {},
   "outputs": [],
   "source": [
    "from sklearn.feature_extraction.text import CountVectorizer"
   ]
  },
  {
   "cell_type": "markdown",
   "id": "b48644d6",
   "metadata": {},
   "source": [
    "Defining the corpus"
   ]
  },
  {
   "cell_type": "code",
   "execution_count": 2,
   "id": "3abee586",
   "metadata": {},
   "outputs": [],
   "source": [
    "corpus = ['This is a corpus',\n",
    "         'It basically repersents a collection of sentences',\n",
    "         'all the processing is performed on these sentences only']"
   ]
  },
  {
   "cell_type": "markdown",
   "id": "63fb766b",
   "metadata": {},
   "source": [
    "Creating a instance of countVectorizer"
   ]
  },
  {
   "cell_type": "code",
   "execution_count": 3,
   "id": "e95b4095",
   "metadata": {},
   "outputs": [],
   "source": [
    "cv = CountVectorizer();"
   ]
  },
  {
   "cell_type": "markdown",
   "id": "4532a56d",
   "metadata": {},
   "source": [
    "Fit the vectorizer to the Corpus using .fit method"
   ]
  },
  {
   "cell_type": "code",
   "execution_count": 4,
   "id": "85377a93",
   "metadata": {},
   "outputs": [
    {
     "data": {
      "text/plain": [
       "CountVectorizer()"
      ]
     },
     "execution_count": 4,
     "metadata": {},
     "output_type": "execute_result"
    }
   ],
   "source": [
    "cv.fit(corpus)"
   ]
  },
  {
   "cell_type": "markdown",
   "id": "48c22e05",
   "metadata": {},
   "source": [
    "Creat the Bag-of-word matrix using transform method"
   ]
  },
  {
   "cell_type": "code",
   "execution_count": 5,
   "id": "e9529182",
   "metadata": {},
   "outputs": [
    {
     "data": {
      "text/plain": [
       "array([[0, 0, 0, 1, 1, 0, 0, 0, 0, 0, 0, 0, 0, 0, 0, 1],\n",
       "       [0, 1, 1, 0, 0, 1, 1, 0, 0, 0, 0, 1, 1, 0, 0, 0],\n",
       "       [1, 0, 0, 0, 1, 0, 0, 1, 1, 1, 1, 0, 1, 1, 1, 0]], dtype=int64)"
      ]
     },
     "execution_count": 5,
     "metadata": {},
     "output_type": "execute_result"
    }
   ],
   "source": [
    "BOW_Matrics = cv.transform(corpus)\n",
    "BOW_Matrics.toarray()"
   ]
  },
  {
   "cell_type": "markdown",
   "id": "5ef31a5d",
   "metadata": {},
   "source": [
    "Now we print the vocabulary of corpus using .vocabulary_() function.<br>\n",
    "The function return the a dictionary having <i>keys</i> representing the <i>unique words in the corpus</i> and the corresponding values representing the numeric indices allotted to that word"
   ]
  },
  {
   "cell_type": "code",
   "execution_count": 6,
   "id": "b2acacb2",
   "metadata": {},
   "outputs": [
    {
     "name": "stdout",
     "output_type": "stream",
     "text": [
      "{'this': 15, 'is': 4, 'corpus': 3, 'it': 5, 'basically': 1, 'repersents': 11, 'collection': 2, 'of': 6, 'sentences': 12, 'all': 0, 'the': 13, 'processing': 10, 'performed': 9, 'on': 7, 'these': 14, 'only': 8}\n"
     ]
    }
   ],
   "source": [
    "print(cv.vocabulary_)"
   ]
  },
  {
   "cell_type": "code",
   "execution_count": null,
   "id": "b8529cb0",
   "metadata": {},
   "outputs": [],
   "source": []
  },
  {
   "cell_type": "markdown",
   "id": "dc3bac7b",
   "metadata": {},
   "source": [
    "# Word mbedding using Document Term Matrics"
   ]
  },
  {
   "cell_type": "code",
   "execution_count": 7,
   "id": "59b29035",
   "metadata": {},
   "outputs": [],
   "source": [
    "doc_term_matrix = cv.transform(corpus).toarray()"
   ]
  },
  {
   "cell_type": "code",
   "execution_count": 8,
   "id": "61d82585",
   "metadata": {},
   "outputs": [],
   "source": [
    "from sklearn.feature_extraction.text import TfidfTransformer\n",
    "\n",
    "tfidf_transformer = TfidfTransformer()\n",
    "tfidf_matrix = tfidf_transformer.fit_transform(doc_term_matrix)"
   ]
  },
  {
   "cell_type": "code",
   "execution_count": 9,
   "id": "6497d8e6",
   "metadata": {},
   "outputs": [
    {
     "name": "stdout",
     "output_type": "stream",
     "text": [
      "[[0 0 0 1 1 0 0 0 0 0 0 0 0 0 0 1]\n",
      " [0 1 1 0 0 1 1 0 0 0 0 1 1 0 0 0]\n",
      " [1 0 0 0 1 0 0 1 1 1 1 0 1 1 1 0]]\n"
     ]
    }
   ],
   "source": [
    "print(doc_term_matrix)"
   ]
  },
  {
   "cell_type": "code",
   "execution_count": 10,
   "id": "7f749c8c",
   "metadata": {},
   "outputs": [
    {
     "name": "stdout",
     "output_type": "stream",
     "text": [
      "[[0.         0.         0.         0.62276601 0.4736296  0.\n",
      "  0.         0.         0.         0.         0.         0.\n",
      "  0.         0.         0.         0.62276601]\n",
      " [0.         0.42339448 0.42339448 0.         0.         0.42339448\n",
      "  0.42339448 0.         0.         0.         0.         0.42339448\n",
      "  0.32200242 0.         0.         0.        ]\n",
      " [0.35013871 0.         0.         0.         0.26628951 0.\n",
      "  0.         0.35013871 0.35013871 0.35013871 0.35013871 0.\n",
      "  0.26628951 0.35013871 0.35013871 0.        ]]\n"
     ]
    }
   ],
   "source": [
    "print(tfidf_matrix.toarray())"
   ]
  },
  {
   "cell_type": "code",
   "execution_count": null,
   "id": "49d6c173",
   "metadata": {},
   "outputs": [],
   "source": []
  },
  {
   "cell_type": "code",
   "execution_count": null,
   "id": "7fc49623",
   "metadata": {},
   "outputs": [],
   "source": []
  },
  {
   "cell_type": "code",
   "execution_count": null,
   "id": "a5755af4",
   "metadata": {},
   "outputs": [],
   "source": []
  }
 ],
 "metadata": {
  "kernelspec": {
   "display_name": "Python 3 (ipykernel)",
   "language": "python",
   "name": "python3"
  },
  "language_info": {
   "codemirror_mode": {
    "name": "ipython",
    "version": 3
   },
   "file_extension": ".py",
   "mimetype": "text/x-python",
   "name": "python",
   "nbconvert_exporter": "python",
   "pygments_lexer": "ipython3",
   "version": "3.9.7"
  }
 },
 "nbformat": 4,
 "nbformat_minor": 5
}
